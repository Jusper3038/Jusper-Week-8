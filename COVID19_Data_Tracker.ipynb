{
 "cells": [
  {
   "cell_type": "markdown",
   "id": "0af70732",
   "metadata": {},
   "source": [
    "#  COVID-19 Global Data Tracker\n",
    "This notebook analyzes global COVID-19 trends using real-world data.\n",
    "It includes data cleaning, exploratory data analysis, and visualization of key metrics."
   ]
  },
  {
   "cell_type": "code",
   "execution_count": null,
   "id": "2446e79d",
   "metadata": {},
   "outputs": [],
   "source": [
    "import pandas as pd\n",
    "import matplotlib.pyplot as plt\n",
    "import seaborn as sns\n",
    "sns.set(style='whitegrid')\n",
    "\n",
    "# Load the dataset\n",
    "df = pd.read_csv('COVID.csv')\n",
    "df.head()"
   ]
  },
  {
   "cell_type": "markdown",
   "id": "349a0386",
   "metadata": {},
   "source": [
    "## 🧹 Data Cleaning"
   ]
  },
  {
   "cell_type": "code",
   "execution_count": null,
   "id": "218f417a",
   "metadata": {},
   "outputs": [],
   "source": [
    "# Convert 'day' column to datetime format\n",
    "df['day'] = pd.to_datetime(df['day'], errors='coerce')\n",
    "\n",
    "# Fill or handle missing values\n",
    "df['continent'].fillna('Unknown', inplace=True)\n",
    "df['population'].fillna(df['population'].median(), inplace=True)\n",
    "df['Recovered'].fillna(0, inplace=True)\n",
    "df['Deaths'].fillna(0, inplace=True)\n",
    "df['Tests'].fillna(0, inplace=True)\n",
    "\n",
    "# Check for remaining missing values\n",
    "df.isnull().sum()"
   ]
  },
  {
   "cell_type": "markdown",
   "id": "cd86449a",
   "metadata": {},
   "source": [
    "## 📊 Data Visualization\n",
    "### Top 10 Countries by Total COVID-19 Cases"
   ]
  },
  {
   "cell_type": "code",
   "execution_count": null,
   "id": "c0650f47",
   "metadata": {},
   "outputs": [],
   "source": [
    "top_cases = df.sort_values(by='Cases', ascending=False).head(10)\n",
    "plt.figure(figsize=(10, 6))\n",
    "sns.barplot(data=top_cases, x='Cases', y='country', palette='Reds_r')\n",
    "plt.title('Top 10 Countries by Total COVID-19 Cases')\n",
    "plt.xlabel('Total Cases')\n",
    "plt.ylabel('Country')\n",
    "plt.tight_layout()\n",
    "plt.show()"
   ]
  },
  {
   "cell_type": "markdown",
   "id": "99c4ec5f",
   "metadata": {},
   "source": [
    "### Total Deaths in Top 10 Countries by Cases"
   ]
  },
  {
   "cell_type": "code",
   "execution_count": null,
   "id": "92b4d7a5",
   "metadata": {},
   "outputs": [],
   "source": [
    "plt.figure(figsize=(10, 6))\n",
    "sns.barplot(data=top_cases, x='Deaths', y='country', palette='Greys_r')\n",
    "plt.title('Total Deaths in Top 10 Countries by Cases')\n",
    "plt.xlabel('Total Deaths')\n",
    "plt.ylabel('Country')\n",
    "plt.tight_layout()\n",
    "plt.show()"
   ]
  },
  {
   "cell_type": "markdown",
   "id": "67b00a9c",
   "metadata": {},
   "source": [
    "### Total Tests Conducted in Top 10 Countries"
   ]
  },
  {
   "cell_type": "code",
   "execution_count": null,
   "id": "c0bcf41d",
   "metadata": {},
   "outputs": [],
   "source": [
    "plt.figure(figsize=(10, 6))\n",
    "sns.barplot(data=top_cases, x='Tests', y='country', palette='Blues_r')\n",
    "plt.title('Total Tests in Top 10 Countries')\n",
    "plt.xlabel('Total Tests')\n",
    "plt.ylabel('Country')\n",
    "plt.tight_layout()\n",
    "plt.show()"
   ]
  },
  {
   "cell_type": "markdown",
   "id": "01a8d777",
   "metadata": {},
   "source": [
    "### Death Rate in Top 10 Countries (Deaths / Cases)"
   ]
  },
  {
   "cell_type": "code",
   "execution_count": null,
   "id": "7740701f",
   "metadata": {},
   "outputs": [],
   "source": [
    "top_cases['death_rate'] = top_cases['Deaths'] / top_cases['Cases']\n",
    "plt.figure(figsize=(10, 6))\n",
    "sns.barplot(data=top_cases, x='death_rate', y='country', palette='Purples_r')\n",
    "plt.title('Death Rate in Top 10 Countries by Cases')\n",
    "plt.xlabel('Death Rate')\n",
    "plt.ylabel('Country')\n",
    "plt.tight_layout()\n",
    "plt.show()"
   ]
  }
 ],
 "metadata": {},
 "nbformat": 4,
 "nbformat_minor": 5
}
